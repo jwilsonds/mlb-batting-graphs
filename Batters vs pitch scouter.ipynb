{
 "cells": [
  {
   "cell_type": "code",
   "execution_count": 107,
   "metadata": {},
   "outputs": [],
   "source": [
    "#valid entries for pitch_type include: 'offspeed' or 'fastballs'\n",
    "\n",
    "def bat_vs_pitch(mlb_id, pitch_type):\n",
    "    from pybaseball import statcast_batter\n",
    "    \n",
    "    import matplotlib.pyplot as plt\n",
    "    \n",
    "    import pandas as pd\n",
    "    \n",
    "    import matplotlib.patches as patches\n",
    "    \n",
    "    from datetime import datetime\n",
    "    \n",
    "    today = datetime.today().strftime('%Y-%m-%d')\n",
    "    \n",
    "    #gets pitch data for chosen player\n",
    "    data = statcast_batter('2015-3-30', today, player_id = mlb_id)\n",
    "    \n",
    "    #removes all pitches that are intentional balls or pitchouts\n",
    "    new_data = data.loc[(data['description']!= 'intent_ball') | (data['pitch_type']!='PO')]\n",
    "    \n",
    "    #gets the mean of every available stat (will be used to generate strikezone)\n",
    "    avgs =new_data.describe()\n",
    "    \n",
    "    #gets the average top measurement of the strikezone for the specific player\n",
    "    top_sz = avgs['sz_top'][1]\n",
    "    \n",
    "    #gets the average bottom measurement of the strikezone for the specific player\n",
    "    bot_sz = avgs['sz_bot'][1]\n",
    "    \n",
    "    name = new_data['player_name'][0]\n",
    "    \n",
    "    #gets all pitches that were hit into play by player\n",
    "    in_play = new_data[new_data['description'].str.contains('hit_into_play')]\n",
    "    \n",
    "    vs_soft = in_play.loc[in_play['pitch_type'].isin(['CU', 'SL', 'CH', 'KC', 'EP'])]\n",
    "    \n",
    "    vs_hard = in_play.loc[in_play['pitch_type'].isin(['FF', 'FC', 'FT', 'SI', 'FS'])]\n",
    "    \n",
    "    fig, ax = plt.subplots()\n",
    "    \n",
    "    #generates strikezone using the measurements we got above\n",
    "    strikezone = patches.Rectangle((-0.70833,bot_sz), width= 17/12, height = (top_sz-bot_sz), fill=False)\n",
    "    \n",
    "    #generates hexbin plot of all pitches that the player hit and measures the estimated ba of every pitch\n",
    "    #in each bin \n",
    "    if pitch_type == 'offspeed':\n",
    "        graph  = plt.hexbin(vs_soft['plate_x'],vs_soft['plate_z'],C=vs_soft['estimated_ba_using_speedangle'], \n",
    "           gridsize=(5,5), mincnt=2, vmax = 1,vmin =0, cmap= 'Reds')\n",
    "    \n",
    "    elif pitch_type == 'fastballs':\n",
    "        \n",
    "        graph = plt.hexbin(vs_hard['plate_x'],vs_hard['plate_z'],C=vs_hard['estimated_ba_using_speedangle'], \n",
    "           gridsize=(5,5), mincnt=2, vmax = 1,vmin =0, cmap= 'Reds')\n",
    "    \n",
    "    else:\n",
    "        \n",
    "        msg1=print('Function arguments are incorrect, the first argument should be an mlbam id for a player. ')\n",
    "        \n",
    "        msg2=print('The second argument can either be offspeed or fastballs')\n",
    "        \n",
    "        graph = msg1+msg2\n",
    "    \n",
    "    #makes the graph the right shape \n",
    "    ax.axis('equal')\n",
    "    \n",
    "    #overlays the strikezone over the hexbin plot\n",
    "    ax.add_patch(strikezone)\n",
    "    \n",
    "    #places a colorbar to measure the estimated ba in each hexagon\n",
    "    cbar = fig.colorbar(graph)\n",
    "    \n",
    "    cbar.set_label('Estimated BA')\n",
    "    \n",
    "    ax.set_title(name +' vs. ' + pitch_type)\n",
    "    \n",
    "    return graph"
   ]
  },
  {
   "cell_type": "code",
   "execution_count": 53,
   "metadata": {},
   "outputs": [
    {
     "name": "stdout",
     "output_type": "stream",
     "text": [
      "Gathering player lookup table. This may take a moment.\n"
     ]
    },
    {
     "data": {
      "text/html": [
       "<div>\n",
       "<style scoped>\n",
       "    .dataframe tbody tr th:only-of-type {\n",
       "        vertical-align: middle;\n",
       "    }\n",
       "\n",
       "    .dataframe tbody tr th {\n",
       "        vertical-align: top;\n",
       "    }\n",
       "\n",
       "    .dataframe thead th {\n",
       "        text-align: right;\n",
       "    }\n",
       "</style>\n",
       "<table border=\"1\" class=\"dataframe\">\n",
       "  <thead>\n",
       "    <tr style=\"text-align: right;\">\n",
       "      <th></th>\n",
       "      <th>name_last</th>\n",
       "      <th>name_first</th>\n",
       "      <th>key_mlbam</th>\n",
       "      <th>key_retro</th>\n",
       "      <th>key_bbref</th>\n",
       "      <th>key_fangraphs</th>\n",
       "      <th>mlb_played_first</th>\n",
       "      <th>mlb_played_last</th>\n",
       "    </tr>\n",
       "  </thead>\n",
       "  <tbody>\n",
       "    <tr>\n",
       "      <th>0</th>\n",
       "      <td>trout</td>\n",
       "      <td>mike</td>\n",
       "      <td>545361</td>\n",
       "      <td>troum001</td>\n",
       "      <td>troutmi01</td>\n",
       "      <td>10155</td>\n",
       "      <td>2011.0</td>\n",
       "      <td>2019.0</td>\n",
       "    </tr>\n",
       "  </tbody>\n",
       "</table>\n",
       "</div>"
      ],
      "text/plain": [
       "  name_last name_first  key_mlbam key_retro  key_bbref  key_fangraphs  \\\n",
       "0     trout       mike     545361  troum001  troutmi01          10155   \n",
       "\n",
       "   mlb_played_first  mlb_played_last  \n",
       "0            2011.0           2019.0  "
      ]
     },
     "execution_count": 53,
     "metadata": {},
     "output_type": "execute_result"
    }
   ],
   "source": [
    "from pybaseball import playerid_lookup\n",
    "playerid_lookup('trout', 'mike')"
   ]
  },
  {
   "cell_type": "code",
   "execution_count": 108,
   "metadata": {},
   "outputs": [
    {
     "name": "stdout",
     "output_type": "stream",
     "text": [
      "Gathering Player Data\n"
     ]
    },
    {
     "data": {
      "text/plain": [
       "<matplotlib.collections.PolyCollection at 0x7fec442e5518>"
      ]
     },
     "execution_count": 108,
     "metadata": {},
     "output_type": "execute_result"
    },
    {
     "data": {
      "image/png": "[encoded data removed]",
      "text/plain": [
       "<Figure size 432x288 with 2 Axes>"
      ]
     },
     "metadata": {
      "needs_background": "light"
     },
     "output_type": "display_data"
    }
   ],
   "source": [
    "bat_vs_pitch(645277, 'fastballs')"
   ]
  },
  {
   "cell_type": "code",
   "execution_count": 109,
   "metadata": {},
   "outputs": [
    {
     "name": "stdout",
     "output_type": "stream",
     "text": [
      "Gathering Player Data\n"
     ]
    },
    {
     "data": {
      "text/plain": [
       "<matplotlib.collections.PolyCollection at 0x7fec441540f0>"
      ]
     },
     "execution_count": 109,
     "metadata": {},
     "output_type": "execute_result"
    },
    {
     "data": {
      "image/png": "[encoded data removed]",
      "text/plain": [
       "<Figure size 432x288 with 2 Axes>"
      ]
     },
     "metadata": {
      "needs_background": "light"
     },
     "output_type": "display_data"
    }
   ],
   "source": [
    "bat_vs_pitch(645277, 'offspeed')"
   ]
  },
  {
   "cell_type": "code",
   "execution_count": null,
   "metadata": {},
   "outputs": [],
   "source": []
  }
 ],
 "metadata": {
  "kernelspec": {
   "display_name": "Python 3",
   "language": "python",
   "name": "python3"
  },
  "language_info": {
   "codemirror_mode": {
    "name": "ipython",
    "version": 3
   },
   "file_extension": ".py",
   "mimetype": "text/x-python",
   "name": "python",
   "nbconvert_exporter": "python",
   "pygments_lexer": "ipython3",
   "version": "3.7.3"
  }
 },
 "nbformat": 4,
 "nbformat_minor": 2
}
